{
 "cells": [
  {
   "cell_type": "markdown",
   "metadata": {},
   "source": [
    "# Analysis Of Airbnb Data ...\n",
    "### What do people look for in the listing advertisement?\n",
    "#### Reviews (score review, positive, negative)\n",
    "### When are the peak listing times for my property?\n",
    "#### \n",
    "### How should I price my property?\n",
    "### How much should I increase my weekend/holiday price"
   ]
  },
  {
   "cell_type": "code",
   "execution_count": 1,
   "metadata": {},
   "outputs": [],
   "source": [
    "import pandas as pd\n",
    "import numpy as np\n",
    "import matplotlib.pyplot as plt\n",
    "import seaborn as sns\n",
    "\n",
    "from pandas.tseries.holiday import USFederalHolidayCalendar as us_calendar\n",
    "\n",
    "%matplotlib inline"
   ]
  },
  {
   "cell_type": "markdown",
   "metadata": {},
   "source": [
    "## 1.0 Load and Examine Data"
   ]
  },
  {
   "cell_type": "markdown",
   "metadata": {},
   "source": [
    "### 1.1 Load data\n",
    "* **`calendar.csv`**:\n",
    "   * `date`: load in pandas as DateTime\n",
    "   * `available`: convert **'t' / 'f'** ==> **1 / 0**\n",
    "   * `price`: convert to float"
   ]
  },
  {
   "cell_type": "code",
   "execution_count": 2,
   "metadata": {},
   "outputs": [
    {
     "data": {
      "text/html": [
       "<div>\n",
       "<style scoped>\n",
       "    .dataframe tbody tr th:only-of-type {\n",
       "        vertical-align: middle;\n",
       "    }\n",
       "\n",
       "    .dataframe tbody tr th {\n",
       "        vertical-align: top;\n",
       "    }\n",
       "\n",
       "    .dataframe thead th {\n",
       "        text-align: right;\n",
       "    }\n",
       "</style>\n",
       "<table border=\"1\" class=\"dataframe\">\n",
       "  <thead>\n",
       "    <tr style=\"text-align: right;\">\n",
       "      <th></th>\n",
       "      <th>listing_id</th>\n",
       "      <th>date</th>\n",
       "      <th>available</th>\n",
       "      <th>price</th>\n",
       "    </tr>\n",
       "  </thead>\n",
       "  <tbody>\n",
       "    <tr>\n",
       "      <td>1241608</td>\n",
       "      <td>6923942</td>\n",
       "      <td>2016-12-13</td>\n",
       "      <td>0</td>\n",
       "      <td>NaN</td>\n",
       "    </tr>\n",
       "    <tr>\n",
       "      <td>1107796</td>\n",
       "      <td>12593869</td>\n",
       "      <td>2017-04-05</td>\n",
       "      <td>1</td>\n",
       "      <td>31.0</td>\n",
       "    </tr>\n",
       "    <tr>\n",
       "      <td>1154304</td>\n",
       "      <td>4863108</td>\n",
       "      <td>2017-01-10</td>\n",
       "      <td>1</td>\n",
       "      <td>93.0</td>\n",
       "    </tr>\n",
       "    <tr>\n",
       "      <td>662255</td>\n",
       "      <td>25418</td>\n",
       "      <td>2017-03-21</td>\n",
       "      <td>1</td>\n",
       "      <td>249.0</td>\n",
       "    </tr>\n",
       "    <tr>\n",
       "      <td>1036025</td>\n",
       "      <td>13564281</td>\n",
       "      <td>2017-04-01</td>\n",
       "      <td>0</td>\n",
       "      <td>NaN</td>\n",
       "    </tr>\n",
       "  </tbody>\n",
       "</table>\n",
       "</div>"
      ],
      "text/plain": [
       "         listing_id       date  available  price\n",
       "1241608     6923942 2016-12-13          0    NaN\n",
       "1107796    12593869 2017-04-05          1   31.0\n",
       "1154304     4863108 2017-01-10          1   93.0\n",
       "662255        25418 2017-03-21          1  249.0\n",
       "1036025    13564281 2017-04-01          0    NaN"
      ]
     },
     "execution_count": 2,
     "metadata": {},
     "output_type": "execute_result"
    }
   ],
   "source": [
    "# Load data\n",
    "\n",
    "# Reformat data on loading\n",
    "price_format = lambda s: np.nan if not s else float(s.replace('$', '').replace(',', ''))\n",
    "tf_format = lambda s: 1 if s == 't' else 0\n",
    "\n",
    "calendar = pd.read_csv('./data/boston/calendar.csv',\n",
    "                       parse_dates=['date'], infer_datetime_format=True,\n",
    "                       converters={'price': price_format, 'available': tf_format})\n",
    "\n",
    "calendar.sample(5)"
   ]
  },
  {
   "cell_type": "markdown",
   "metadata": {},
   "source": [
    "### 1.2 Examine Data"
   ]
  },
  {
   "cell_type": "code",
   "execution_count": 3,
   "metadata": {},
   "outputs": [
    {
     "data": {
      "text/html": [
       "<div>\n",
       "<style scoped>\n",
       "    .dataframe tbody tr th:only-of-type {\n",
       "        vertical-align: middle;\n",
       "    }\n",
       "\n",
       "    .dataframe tbody tr th {\n",
       "        vertical-align: top;\n",
       "    }\n",
       "\n",
       "    .dataframe thead th {\n",
       "        text-align: right;\n",
       "    }\n",
       "</style>\n",
       "<table border=\"1\" class=\"dataframe\">\n",
       "  <thead>\n",
       "    <tr style=\"text-align: right;\">\n",
       "      <th></th>\n",
       "      <th>listing_id</th>\n",
       "      <th>available</th>\n",
       "      <th>price</th>\n",
       "    </tr>\n",
       "  </thead>\n",
       "  <tbody>\n",
       "    <tr>\n",
       "      <td>count</td>\n",
       "      <td>1.308890e+06</td>\n",
       "      <td>1.308890e+06</td>\n",
       "      <td>643037.000000</td>\n",
       "    </tr>\n",
       "    <tr>\n",
       "      <td>mean</td>\n",
       "      <td>8.442118e+06</td>\n",
       "      <td>4.912842e-01</td>\n",
       "      <td>198.438909</td>\n",
       "    </tr>\n",
       "    <tr>\n",
       "      <td>std</td>\n",
       "      <td>4.500149e+06</td>\n",
       "      <td>4.999242e-01</td>\n",
       "      <td>180.142913</td>\n",
       "    </tr>\n",
       "    <tr>\n",
       "      <td>min</td>\n",
       "      <td>3.353000e+03</td>\n",
       "      <td>0.000000e+00</td>\n",
       "      <td>11.000000</td>\n",
       "    </tr>\n",
       "    <tr>\n",
       "      <td>25%</td>\n",
       "      <td>4.679319e+06</td>\n",
       "      <td>0.000000e+00</td>\n",
       "      <td>85.000000</td>\n",
       "    </tr>\n",
       "    <tr>\n",
       "      <td>50%</td>\n",
       "      <td>8.578710e+06</td>\n",
       "      <td>0.000000e+00</td>\n",
       "      <td>150.000000</td>\n",
       "    </tr>\n",
       "    <tr>\n",
       "      <td>75%</td>\n",
       "      <td>1.279603e+07</td>\n",
       "      <td>1.000000e+00</td>\n",
       "      <td>255.000000</td>\n",
       "    </tr>\n",
       "    <tr>\n",
       "      <td>max</td>\n",
       "      <td>1.493346e+07</td>\n",
       "      <td>1.000000e+00</td>\n",
       "      <td>7163.000000</td>\n",
       "    </tr>\n",
       "  </tbody>\n",
       "</table>\n",
       "</div>"
      ],
      "text/plain": [
       "         listing_id     available          price\n",
       "count  1.308890e+06  1.308890e+06  643037.000000\n",
       "mean   8.442118e+06  4.912842e-01     198.438909\n",
       "std    4.500149e+06  4.999242e-01     180.142913\n",
       "min    3.353000e+03  0.000000e+00      11.000000\n",
       "25%    4.679319e+06  0.000000e+00      85.000000\n",
       "50%    8.578710e+06  0.000000e+00     150.000000\n",
       "75%    1.279603e+07  1.000000e+00     255.000000\n",
       "max    1.493346e+07  1.000000e+00    7163.000000"
      ]
     },
     "execution_count": 3,
     "metadata": {},
     "output_type": "execute_result"
    }
   ],
   "source": [
    "calendar.describe()"
   ]
  },
  {
   "cell_type": "code",
   "execution_count": 4,
   "metadata": {},
   "outputs": [
    {
     "data": {
      "text/plain": [
       "count                 1308890\n",
       "unique                    365\n",
       "top       2016-12-27 00:00:00\n",
       "freq                     3586\n",
       "first     2016-09-06 00:00:00\n",
       "last      2017-09-05 00:00:00\n",
       "Name: date, dtype: object"
      ]
     },
     "execution_count": 4,
     "metadata": {},
     "output_type": "execute_result"
    }
   ],
   "source": [
    "calendar.date.describe()"
   ]
  },
  {
   "cell_type": "code",
   "execution_count": 5,
   "metadata": {},
   "outputs": [
    {
     "name": "stdout",
     "output_type": "stream",
     "text": [
      "Collected data is from 2016-09-06 00:00:00 and 2017-09-05 00:00:00 with 1308890 entries\n",
      "\n",
      "Percent of Missing Column Values:\n",
      "listing_id     0.00\n",
      "date           0.00\n",
      "available      0.00\n",
      "price         50.87\n",
      "dtype: float64\n",
      "\n",
      "There are a total of 1308890 listings with 3585 unique listing_ids\n",
      "\n",
      "All listings with missing prices correspond to *not* available and vice versa: True\n"
     ]
    }
   ],
   "source": [
    "# Examine data\n",
    "print(f'Collected data is from {calendar.date.min()} and {calendar.date.max()} '\n",
    "      f'with {calendar.shape[0]} entries\\n')\n",
    "print(f'Percent of Missing Column Values:\\n{round(calendar.isna().mean() * 100, 2)}\\n', )\n",
    "print(f'There are a total of {calendar.shape[0]} listings with '\n",
    "      f'{calendar.listing_id.nunique()} unique listing_ids\\n')\n",
    "\n",
    "# check aif missing any listings were available for dates where price is missing\n",
    "is_missing_price_not_availbale = pd.Series((calendar.available == 0) == (calendar.price.isna())).all()\n",
    "print(f'All listings with missing prices correspond to *not* available and vice versa: '\n",
    "      f'{is_missing_price_not_availbale}')"
   ]
  },
  {
   "cell_type": "markdown",
   "metadata": {},
   "source": [
    "Note that even though there are 3585 unique listing_ids and 365 unique dates, the total number of rows is 365 values larger than 365 * 3585 = 1308525. Suggesting that there are duplicate entries. Let's check for the duplicates:"
   ]
  },
  {
   "cell_type": "code",
   "execution_count": 6,
   "metadata": {},
   "outputs": [
    {
     "data": {
      "text/html": [
       "<div>\n",
       "<style scoped>\n",
       "    .dataframe tbody tr th:only-of-type {\n",
       "        vertical-align: middle;\n",
       "    }\n",
       "\n",
       "    .dataframe tbody tr th {\n",
       "        vertical-align: top;\n",
       "    }\n",
       "\n",
       "    .dataframe thead th {\n",
       "        text-align: right;\n",
       "    }\n",
       "</style>\n",
       "<table border=\"1\" class=\"dataframe\">\n",
       "  <thead>\n",
       "    <tr style=\"text-align: right;\">\n",
       "      <th></th>\n",
       "      <th>listing_id</th>\n",
       "      <th>date</th>\n",
       "      <th>available</th>\n",
       "      <th>price</th>\n",
       "    </tr>\n",
       "  </thead>\n",
       "  <tbody>\n",
       "    <tr>\n",
       "      <td>748850</td>\n",
       "      <td>12898806</td>\n",
       "      <td>2016-09-06</td>\n",
       "      <td>1</td>\n",
       "      <td>220.0</td>\n",
       "    </tr>\n",
       "    <tr>\n",
       "      <td>748873</td>\n",
       "      <td>12898806</td>\n",
       "      <td>2016-09-06</td>\n",
       "      <td>1</td>\n",
       "      <td>220.0</td>\n",
       "    </tr>\n",
       "    <tr>\n",
       "      <td>748849</td>\n",
       "      <td>12898806</td>\n",
       "      <td>2016-09-07</td>\n",
       "      <td>1</td>\n",
       "      <td>220.0</td>\n",
       "    </tr>\n",
       "    <tr>\n",
       "      <td>748872</td>\n",
       "      <td>12898806</td>\n",
       "      <td>2016-09-07</td>\n",
       "      <td>1</td>\n",
       "      <td>220.0</td>\n",
       "    </tr>\n",
       "    <tr>\n",
       "      <td>748848</td>\n",
       "      <td>12898806</td>\n",
       "      <td>2016-09-08</td>\n",
       "      <td>1</td>\n",
       "      <td>220.0</td>\n",
       "    </tr>\n",
       "    <tr>\n",
       "      <td>...</td>\n",
       "      <td>...</td>\n",
       "      <td>...</td>\n",
       "      <td>...</td>\n",
       "      <td>...</td>\n",
       "    </tr>\n",
       "    <tr>\n",
       "      <td>748853</td>\n",
       "      <td>12898806</td>\n",
       "      <td>2017-09-03</td>\n",
       "      <td>0</td>\n",
       "      <td>NaN</td>\n",
       "    </tr>\n",
       "    <tr>\n",
       "      <td>748498</td>\n",
       "      <td>12898806</td>\n",
       "      <td>2017-09-04</td>\n",
       "      <td>0</td>\n",
       "      <td>NaN</td>\n",
       "    </tr>\n",
       "    <tr>\n",
       "      <td>748852</td>\n",
       "      <td>12898806</td>\n",
       "      <td>2017-09-04</td>\n",
       "      <td>0</td>\n",
       "      <td>NaN</td>\n",
       "    </tr>\n",
       "    <tr>\n",
       "      <td>748497</td>\n",
       "      <td>12898806</td>\n",
       "      <td>2017-09-05</td>\n",
       "      <td>0</td>\n",
       "      <td>NaN</td>\n",
       "    </tr>\n",
       "    <tr>\n",
       "      <td>748851</td>\n",
       "      <td>12898806</td>\n",
       "      <td>2017-09-05</td>\n",
       "      <td>0</td>\n",
       "      <td>NaN</td>\n",
       "    </tr>\n",
       "  </tbody>\n",
       "</table>\n",
       "<p>730 rows × 4 columns</p>\n",
       "</div>"
      ],
      "text/plain": [
       "        listing_id       date  available  price\n",
       "748850    12898806 2016-09-06          1  220.0\n",
       "748873    12898806 2016-09-06          1  220.0\n",
       "748849    12898806 2016-09-07          1  220.0\n",
       "748872    12898806 2016-09-07          1  220.0\n",
       "748848    12898806 2016-09-08          1  220.0\n",
       "...            ...        ...        ...    ...\n",
       "748853    12898806 2017-09-03          0    NaN\n",
       "748498    12898806 2017-09-04          0    NaN\n",
       "748852    12898806 2017-09-04          0    NaN\n",
       "748497    12898806 2017-09-05          0    NaN\n",
       "748851    12898806 2017-09-05          0    NaN\n",
       "\n",
       "[730 rows x 4 columns]"
      ]
     },
     "execution_count": 6,
     "metadata": {},
     "output_type": "execute_result"
    }
   ],
   "source": [
    "# Duplicate\n",
    "calendar[calendar.duplicated(keep=False)].sort_values(['listing_id', 'date'])"
   ]
  },
  {
   "cell_type": "markdown",
   "metadata": {},
   "source": [
    "Above shows that we indeed have duplicated entries for `listing_id = 12898806`, we will drop the duplicate entires in the section 2.1 below."
   ]
  },
  {
   "cell_type": "markdown",
   "metadata": {},
   "source": [
    "Let's examine the distribution of listing prices:"
   ]
  },
  {
   "cell_type": "code",
   "execution_count": 7,
   "metadata": {},
   "outputs": [
    {
     "data": {
      "image/png": "[encoded data removed]",
      "text/plain": [
       "<Figure size 432x288 with 1 Axes>"
      ]
     },
     "metadata": {
      "needs_background": "light"
     },
     "output_type": "display_data"
    }
   ],
   "source": [
    "ax1 = calendar.price.hist(log=True)\n",
    "ax1.set_title('Listing Price Histogram')\n",
    "ax1.set_xlabel('Price')\n",
    "ax1.set_ylabel('Log(Count)');"
   ]
  },
  {
   "cell_type": "markdown",
   "metadata": {},
   "source": [
    "As seen from the plot, there apper to be some outliers which we will deal with in the section 2.3 below."
   ]
  },
  {
   "cell_type": "markdown",
   "metadata": {},
   "source": [
    "## 2.0 Clean Data\n",
    " * **Duplicates**\n",
    " * **Calendar Dates**\n",
    " * **Missing values**\n",
    " * **Outliers**\n",
    " \n",
    "### 2.1 Duplicates\n",
    "Let's remove the duplicate rows found above and store our clean calendar dataframe as **`cal_clean`**:"
   ]
  },
  {
   "cell_type": "code",
   "execution_count": 8,
   "metadata": {},
   "outputs": [],
   "source": [
    "calendar = calendar.drop_duplicates()"
   ]
  },
  {
   "cell_type": "markdown",
   "metadata": {},
   "source": [
    "### 2.2 Calendar Dates"
   ]
  },
  {
   "cell_type": "code",
   "execution_count": 27,
   "metadata": {},
   "outputs": [
    {
     "data": {
      "text/html": [
       "<div>\n",
       "<style scoped>\n",
       "    .dataframe tbody tr th:only-of-type {\n",
       "        vertical-align: middle;\n",
       "    }\n",
       "\n",
       "    .dataframe tbody tr th {\n",
       "        vertical-align: top;\n",
       "    }\n",
       "\n",
       "    .dataframe thead th {\n",
       "        text-align: right;\n",
       "    }\n",
       "</style>\n",
       "<table border=\"1\" class=\"dataframe\">\n",
       "  <thead>\n",
       "    <tr style=\"text-align: right;\">\n",
       "      <th></th>\n",
       "      <th>listing_id</th>\n",
       "      <th>date</th>\n",
       "      <th>available</th>\n",
       "      <th>price</th>\n",
       "      <th>day_of_week</th>\n",
       "      <th>weekend</th>\n",
       "      <th>holiday</th>\n",
       "      <th>price_listing_mean</th>\n",
       "      <th>price_listing_adj</th>\n",
       "      <th>day_num</th>\n",
       "    </tr>\n",
       "  </thead>\n",
       "  <tbody>\n",
       "    <tr>\n",
       "      <td>365</td>\n",
       "      <td>3075044</td>\n",
       "      <td>2017-08-22</td>\n",
       "      <td>1</td>\n",
       "      <td>65.0</td>\n",
       "      <td>1</td>\n",
       "      <td>0</td>\n",
       "      <td>0</td>\n",
       "      <td>67.81337</td>\n",
       "      <td>-0.041487</td>\n",
       "      <td>350</td>\n",
       "    </tr>\n",
       "    <tr>\n",
       "      <td>366</td>\n",
       "      <td>3075044</td>\n",
       "      <td>2017-08-21</td>\n",
       "      <td>1</td>\n",
       "      <td>65.0</td>\n",
       "      <td>0</td>\n",
       "      <td>0</td>\n",
       "      <td>0</td>\n",
       "      <td>67.81337</td>\n",
       "      <td>-0.041487</td>\n",
       "      <td>349</td>\n",
       "    </tr>\n",
       "    <tr>\n",
       "      <td>367</td>\n",
       "      <td>3075044</td>\n",
       "      <td>2017-08-20</td>\n",
       "      <td>1</td>\n",
       "      <td>65.0</td>\n",
       "      <td>6</td>\n",
       "      <td>1</td>\n",
       "      <td>0</td>\n",
       "      <td>67.81337</td>\n",
       "      <td>-0.041487</td>\n",
       "      <td>348</td>\n",
       "    </tr>\n",
       "    <tr>\n",
       "      <td>368</td>\n",
       "      <td>3075044</td>\n",
       "      <td>2017-08-19</td>\n",
       "      <td>1</td>\n",
       "      <td>75.0</td>\n",
       "      <td>5</td>\n",
       "      <td>1</td>\n",
       "      <td>0</td>\n",
       "      <td>67.81337</td>\n",
       "      <td>0.105977</td>\n",
       "      <td>347</td>\n",
       "    </tr>\n",
       "    <tr>\n",
       "      <td>369</td>\n",
       "      <td>3075044</td>\n",
       "      <td>2017-08-18</td>\n",
       "      <td>1</td>\n",
       "      <td>75.0</td>\n",
       "      <td>4</td>\n",
       "      <td>0</td>\n",
       "      <td>0</td>\n",
       "      <td>67.81337</td>\n",
       "      <td>0.105977</td>\n",
       "      <td>346</td>\n",
       "    </tr>\n",
       "  </tbody>\n",
       "</table>\n",
       "</div>"
      ],
      "text/plain": [
       "     listing_id       date  available  price  day_of_week  weekend  holiday  \\\n",
       "365     3075044 2017-08-22          1   65.0            1        0        0   \n",
       "366     3075044 2017-08-21          1   65.0            0        0        0   \n",
       "367     3075044 2017-08-20          1   65.0            6        1        0   \n",
       "368     3075044 2017-08-19          1   75.0            5        1        0   \n",
       "369     3075044 2017-08-18          1   75.0            4        0        0   \n",
       "\n",
       "     price_listing_mean  price_listing_adj  day_num  \n",
       "365            67.81337          -0.041487      350  \n",
       "366            67.81337          -0.041487      349  \n",
       "367            67.81337          -0.041487      348  \n",
       "368            67.81337           0.105977      347  \n",
       "369            67.81337           0.105977      346  "
      ]
     },
     "execution_count": 27,
     "metadata": {},
     "output_type": "execute_result"
    }
   ],
   "source": [
    "# Engineer US holiday calendar related features\n",
    "\n",
    "# Add day of week\n",
    "calendar['day_of_week'] = calendar.date.dt.dayofweek  # Monday = 0, ..., Sunday = 6\n",
    "\n",
    "# Add weekend\n",
    "# Sat or Sunday ==> 1\n",
    "# Monday - Friday ==> 0\n",
    "calendar['weekend'] = calendar.day_of_week.apply(lambda s: 1 if s >= 5 else 0)\n",
    "\n",
    "# Add holiday\n",
    "# US holidays ==> 1\n",
    "# Non holidays ==> 0\n",
    "cal = us_calendar()\n",
    "holidays = cal.holidays(start=calendar.date.min(), end=calendar.date.max())\n",
    "calendar['holiday'] = calendar['date'].isin(holidays).astype(int)\n",
    "calendar['day_num'] = (calendar['date'] - calendar['date'].min()).dt.days\n",
    "\n",
    "calendar.head()"
   ]
  },
  {
   "cell_type": "markdown",
   "metadata": {},
   "source": [
    "### 2.2 Missing values\n",
    "Investigate whether we can safely remove some of the missing price rows. Note that since listing availability maps 1:1 with missing price data. Consequently, we have to be careful about dropping missing price rows since dropped availability data may skew seasonal and cumulative availability patterns. However, listings that are not available for the entire data time interval carry no information useful for our analysis and can be dropped."
   ]
  },
  {
   "cell_type": "code",
   "execution_count": 28,
   "metadata": {},
   "outputs": [
    {
     "data": {
      "text/html": [
       "<div>\n",
       "<style scoped>\n",
       "    .dataframe tbody tr th:only-of-type {\n",
       "        vertical-align: middle;\n",
       "    }\n",
       "\n",
       "    .dataframe tbody tr th {\n",
       "        vertical-align: top;\n",
       "    }\n",
       "\n",
       "    .dataframe thead th {\n",
       "        text-align: right;\n",
       "    }\n",
       "</style>\n",
       "<table border=\"1\" class=\"dataframe\">\n",
       "  <thead>\n",
       "    <tr style=\"text-align: right;\">\n",
       "      <th></th>\n",
       "      <th>listing_id</th>\n",
       "      <th>total_available</th>\n",
       "    </tr>\n",
       "  </thead>\n",
       "  <tbody>\n",
       "    <tr>\n",
       "      <td>141</td>\n",
       "      <td>508017</td>\n",
       "      <td>298</td>\n",
       "    </tr>\n",
       "    <tr>\n",
       "      <td>1208</td>\n",
       "      <td>7134081</td>\n",
       "      <td>337</td>\n",
       "    </tr>\n",
       "    <tr>\n",
       "      <td>486</td>\n",
       "      <td>2683284</td>\n",
       "      <td>344</td>\n",
       "    </tr>\n",
       "    <tr>\n",
       "      <td>1720</td>\n",
       "      <td>9921925</td>\n",
       "      <td>170</td>\n",
       "    </tr>\n",
       "    <tr>\n",
       "      <td>1740</td>\n",
       "      <td>10033322</td>\n",
       "      <td>179</td>\n",
       "    </tr>\n",
       "  </tbody>\n",
       "</table>\n",
       "</div>"
      ],
      "text/plain": [
       "      listing_id  total_available\n",
       "141       508017              298\n",
       "1208     7134081              337\n",
       "486      2683284              344\n",
       "1720     9921925              170\n",
       "1740    10033322              179"
      ]
     },
     "execution_count": 28,
     "metadata": {},
     "output_type": "execute_result"
    }
   ],
   "source": [
    "# Find listings with 0 availability for the entire year and drop rows for these listings\n",
    "listing_availability = calendar.groupby(['listing_id'])['available'].sum().reset_index()\\\n",
    "        .rename(columns={'listing_id': 'listing_id', 'available': 'total_available'})\n",
    "listing_availability.sample(5, random_state=42)"
   ]
  },
  {
   "cell_type": "code",
   "execution_count": 29,
   "metadata": {},
   "outputs": [
    {
     "name": "stdout",
     "output_type": "stream",
     "text": [
      "After dropping never available listings, there remain 1060690 entries with 2906 unique listing_id's\n"
     ]
    }
   ],
   "source": [
    "never_available_listings = listing_availability[listing_availability.total_available == 0]\\\n",
    "        .listing_id.values\n",
    "calendar = calendar[~calendar.listing_id.isin(never_available_listings)]  # drop never available\n",
    "print('After dropping never available listings, there '\n",
    "      f'remain {calendar.shape[0]} entries '\n",
    "      f'with {calendar.listing_id.nunique()} unique listing_id\\'s')"
   ]
  },
  {
   "cell_type": "markdown",
   "metadata": {},
   "source": [
    "### 2.3 Outliers"
   ]
  },
  {
   "cell_type": "markdown",
   "metadata": {},
   "source": [
    "Before we search for outliers in our data, we should consider that listing prices can vary significantly from listing to listing, possibly hiding listing specific outliers in the cumulative data set. Thus, to avoid this loss of information, instead of examining raw prices, we will engineer a column  \n",
    "  \n",
    "**`price_listing_adj`** = `(price - median) / median`, where  \n",
    "`median = median price for each lisiting_id`.\n",
    "\n",
    "Note that we chose median vs. more common mean value since outliers can significantly skew the mean value. Additionally, we chose to use percent deviation rather than normalization or standardization for ease of interpretation."
   ]
  },
  {
   "cell_type": "code",
   "execution_count": 30,
   "metadata": {},
   "outputs": [],
   "source": [
    "# Calculate mean listing price\n",
    "calendar['price_listing_mean'] = calendar.groupby(['listing_id'])['price'].transform('mean')\n",
    "\n",
    "# Engineer listing_id mean adjusted price: (price - median) / median\n",
    "calendar['price_listing_adj'] = ((calendar.price - calendar.price_listing_mean) \n",
    "                                  / calendar.price_listing_mean)"
   ]
  },
  {
   "cell_type": "code",
   "execution_count": 31,
   "metadata": {},
   "outputs": [
    {
     "data": {
      "image/png": "[encoded data removed]",
      "text/plain": [
       "<Figure size 1152x288 with 1 Axes>"
      ]
     },
     "metadata": {
      "needs_background": "light"
     },
     "output_type": "display_data"
    }
   ],
   "source": [
    "ax2 = calendar.plot(x='listing_id', y='price_listing_adj', figsize=(16, 4), kind='scatter');"
   ]
  },
  {
   "cell_type": "markdown",
   "metadata": {},
   "source": [
    "There are a few clear outliers, but let's zoom in closer"
   ]
  },
  {
   "cell_type": "code",
   "execution_count": 32,
   "metadata": {},
   "outputs": [
    {
     "data": {
      "image/png": "[encoded data removed]",
      "text/plain": [
       "<Figure size 1152x288 with 1 Axes>"
      ]
     },
     "metadata": {
      "needs_background": "light"
     },
     "output_type": "display_data"
    }
   ],
   "source": [
    "ax2 = calendar.plot(x='listing_id', y='price_listing_adj', figsize=(16, 4), kind='scatter');\n",
    "ax2.set_ylim(-0.5, 5);"
   ]
  },
  {
   "cell_type": "code",
   "execution_count": 34,
   "metadata": {},
   "outputs": [
    {
     "data": {
      "text/plain": [
       "array(['b', 'b', 'r', ..., 'b', 'b', 'b'], dtype='<U1')"
      ]
     },
     "execution_count": 34,
     "metadata": {},
     "output_type": "execute_result"
    }
   ],
   "source": [
    "colors = np.where(calendar['weekend']==1,'r','b')\n",
    "colors"
   ]
  },
  {
   "cell_type": "code",
   "execution_count": 41,
   "metadata": {},
   "outputs": [
    {
     "ename": "AttributeError",
     "evalue": "module 'pandas' has no attribute 'td'",
     "output_type": "error",
     "traceback": [
      "\u001b[1;31m---------------------------------------------------------------------------\u001b[0m",
      "\u001b[1;31mAttributeError\u001b[0m                            Traceback (most recent call last)",
      "\u001b[1;32m<ipython-input-41-ae9352e378a0>\u001b[0m in \u001b[0;36m<module>\u001b[1;34m\u001b[0m\n\u001b[0;32m      1\u001b[0m \u001b[0max4\u001b[0m \u001b[1;33m=\u001b[0m \u001b[0mcalendar\u001b[0m\u001b[1;33m.\u001b[0m\u001b[0mplot\u001b[0m\u001b[1;33m(\u001b[0m\u001b[0mx\u001b[0m\u001b[1;33m=\u001b[0m\u001b[1;34m'date'\u001b[0m\u001b[1;33m,\u001b[0m \u001b[0my\u001b[0m\u001b[1;33m=\u001b[0m\u001b[1;34m'price_listing_adj'\u001b[0m\u001b[1;33m,\u001b[0m \u001b[0mfigsize\u001b[0m\u001b[1;33m=\u001b[0m\u001b[1;33m(\u001b[0m\u001b[1;36m16\u001b[0m\u001b[1;33m,\u001b[0m \u001b[1;36m4\u001b[0m\u001b[1;33m)\u001b[0m\u001b[1;33m,\u001b[0m \u001b[0mcolor\u001b[0m\u001b[1;33m=\u001b[0m\u001b[0mcolors\u001b[0m\u001b[1;33m)\u001b[0m\u001b[1;33m;\u001b[0m\u001b[1;33m\u001b[0m\u001b[1;33m\u001b[0m\u001b[0m\n\u001b[0;32m      2\u001b[0m \u001b[0max4\u001b[0m\u001b[1;33m.\u001b[0m\u001b[0mset_ylim\u001b[0m\u001b[1;33m(\u001b[0m\u001b[1;33m-\u001b[0m\u001b[1;36m0.5\u001b[0m\u001b[1;33m,\u001b[0m \u001b[1;36m5\u001b[0m\u001b[1;33m)\u001b[0m\u001b[1;33m\u001b[0m\u001b[1;33m\u001b[0m\u001b[0m\n\u001b[1;32m----> 3\u001b[1;33m \u001b[0max4\u001b[0m\u001b[1;33m.\u001b[0m\u001b[0mset_xlim\u001b[0m\u001b[1;33m(\u001b[0m\u001b[0mpd\u001b[0m\u001b[1;33m.\u001b[0m\u001b[0mtd\u001b[0m\u001b[1;33m.\u001b[0m\u001b[0mdt\u001b[0m\u001b[1;33m(\u001b[0m\u001b[1;34m'2017-02-01'\u001b[0m\u001b[1;33m)\u001b[0m\u001b[1;33m,\u001b[0m \u001b[0mpd\u001b[0m\u001b[1;33m.\u001b[0m\u001b[0mtd\u001b[0m\u001b[1;33m.\u001b[0m\u001b[0mdt\u001b[0m\u001b[1;33m(\u001b[0m\u001b[1;34m'2017-04-01'\u001b[0m\u001b[1;33m)\u001b[0m\u001b[1;33m)\u001b[0m\u001b[1;33m\u001b[0m\u001b[1;33m\u001b[0m\u001b[0m\n\u001b[0m",
      "\u001b[1;32m~\\Anaconda3\\lib\\site-packages\\pandas\\__init__.py\u001b[0m in \u001b[0;36m__getattr__\u001b[1;34m(name)\u001b[0m\n\u001b[0;32m    212\u001b[0m \u001b[1;33m\u001b[0m\u001b[0m\n\u001b[0;32m    213\u001b[0m             \u001b[1;32mreturn\u001b[0m \u001b[0mPanel\u001b[0m\u001b[1;33m\u001b[0m\u001b[1;33m\u001b[0m\u001b[0m\n\u001b[1;32m--> 214\u001b[1;33m         \u001b[1;32mraise\u001b[0m \u001b[0mAttributeError\u001b[0m\u001b[1;33m(\u001b[0m\u001b[1;34m\"module 'pandas' has no attribute '{}'\"\u001b[0m\u001b[1;33m.\u001b[0m\u001b[0mformat\u001b[0m\u001b[1;33m(\u001b[0m\u001b[0mname\u001b[0m\u001b[1;33m)\u001b[0m\u001b[1;33m)\u001b[0m\u001b[1;33m\u001b[0m\u001b[1;33m\u001b[0m\u001b[0m\n\u001b[0m\u001b[0;32m    215\u001b[0m \u001b[1;33m\u001b[0m\u001b[0m\n\u001b[0;32m    216\u001b[0m \u001b[1;33m\u001b[0m\u001b[0m\n",
      "\u001b[1;31mAttributeError\u001b[0m: module 'pandas' has no attribute 'td'"
     ]
    },
    {
     "data": {
      "image/png": "[encoded data removed]",
      "text/plain": [
       "<Figure size 1152x288 with 1 Axes>"
      ]
     },
     "metadata": {
      "needs_background": "light"
     },
     "output_type": "display_data"
    }
   ],
   "source": [
    "ax4 = calendar.plot(x='date', y='price_listing_adj', figsize=(16, 4), color=colors);\n",
    "ax4.set_ylim(-0.5, 5)\n",
    "ax4.set_xlim(pd.td.dt('2017-02-01'), pd.td.dt('2017-04-01'))"
   ]
  },
  {
   "cell_type": "markdown",
   "metadata": {},
   "source": [
    "There appear to be some listings with large spread of prices. Lets take a closer look at these."
   ]
  },
  {
   "cell_type": "code",
   "execution_count": null,
   "metadata": {},
   "outputs": [],
   "source": [
    "listings_large_spread = cal_clean[cal_clean.price_listing_adj > 2].listing_id.unique()\n",
    "print(f'Number of listings deviating more than 2x from median listing price is: '\n",
    "      f'{len(listings_large_spread)}')"
   ]
  },
  {
   "cell_type": "code",
   "execution_count": null,
   "metadata": {},
   "outputs": [],
   "source": [
    "cal_large_spread = cal_clean[cal_clean.listing_id.isin(listings_large_spread)]\n",
    "cal_large_spread['day_num'] = (cal_large_spread['date'] - cal_large_spread['date'].min()).dt.days"
   ]
  },
  {
   "cell_type": "code",
   "execution_count": null,
   "metadata": {},
   "outputs": [],
   "source": [
    "cal_large_spread"
   ]
  },
  {
   "cell_type": "code",
   "execution_count": null,
   "metadata": {},
   "outputs": [],
   "source": [
    "ax3 = cal_large_spread.plot(x='day_num', y='price_listing_adj', figsize=(16, 4), kind='scatter');"
   ]
  },
  {
   "cell_type": "code",
   "execution_count": null,
   "metadata": {},
   "outputs": [],
   "source": []
  },
  {
   "cell_type": "code",
   "execution_count": null,
   "metadata": {},
   "outputs": [],
   "source": [
    "# pick five unique id's\n",
    "large_spread_listing_ids = np.random.choice(cal_large_spread.listing_id.unique(), 5)\n",
    "cal_large_spread_sample = cal_clean[cal_clean.listing_id.isin(large_spread_listing_ids)]"
   ]
  },
  {
   "cell_type": "code",
   "execution_count": null,
   "metadata": {},
   "outputs": [],
   "source": [
    "fg = sns.FacetGrid(data=cal_large_spread_sample, hue='listing_id', aspect=16/4)\n",
    "fg.map(plt.scatter, 'date', 'price_listing_adj').add_legend()"
   ]
  },
  {
   "cell_type": "code",
   "execution_count": null,
   "metadata": {},
   "outputs": [],
   "source": [
    "# Examine price distributions\n",
    "# Investigate patterns in the amount of missing data in each column\n",
    "ax1 = calendar.price.plot.hist()\n",
    "ax1.set(yscale='log');"
   ]
  },
  {
   "cell_type": "markdown",
   "metadata": {},
   "source": [
    "Looks like there are outliers in the price"
   ]
  },
  {
   "cell_type": "code",
   "execution_count": null,
   "metadata": {},
   "outputs": [],
   "source": [
    "# Examine high priced > $1000\n",
    "high_priced = calendar[calendar.price >= 1000]\n",
    "ax2 = high_priced.price.plot.hist()\n",
    "ax2.set(yscale='log');"
   ]
  },
  {
   "cell_type": "code",
   "execution_count": null,
   "metadata": {},
   "outputs": [],
   "source": []
  },
  {
   "cell_type": "code",
   "execution_count": null,
   "metadata": {},
   "outputs": [],
   "source": [
    "# Compare weekend vs. holiday vs. weekday prices\n",
    "calendar['price_listing_mean'] = calendar.groupby(['listing_id'])['price'].transform('mean')\n",
    "\n",
    "# Engineer listing_id mean adjusted price\n",
    "calendar['price_dev_listing_mean'] = (calendar.price - calendar.price_listing_mean) / calendar.price_listing_mean"
   ]
  },
  {
   "cell_type": "code",
   "execution_count": null,
   "metadata": {},
   "outputs": [],
   "source": [
    "# Availability by date\n",
    "calendar['available_total'] = calendar.groupby(['date'])['available'].transform('sum')"
   ]
  },
  {
   "cell_type": "code",
   "execution_count": null,
   "metadata": {},
   "outputs": [],
   "source": [
    "calendar"
   ]
  },
  {
   "cell_type": "code",
   "execution_count": null,
   "metadata": {},
   "outputs": [],
   "source": [
    "calendar.sample(10)"
   ]
  },
  {
   "cell_type": "code",
   "execution_count": null,
   "metadata": {},
   "outputs": [],
   "source": [
    "calendar.price_listing_mean.isna().value_counts()"
   ]
  },
  {
   "cell_type": "code",
   "execution_count": null,
   "metadata": {},
   "outputs": [],
   "source": [
    "calendar.plot(y='price', x='available_total', style='o')"
   ]
  },
  {
   "cell_type": "code",
   "execution_count": null,
   "metadata": {},
   "outputs": [],
   "source": []
  }
 ],
 "metadata": {
  "kernelspec": {
   "display_name": "Python [conda env:root]",
   "language": "python",
   "name": "conda-root-py"
  },
  "language_info": {
   "codemirror_mode": {
    "name": "ipython",
    "version": 3
   },
   "file_extension": ".py",
   "mimetype": "text/x-python",
   "name": "python",
   "nbconvert_exporter": "python",
   "pygments_lexer": "ipython3",
   "version": "3.7.4"
  }
 },
 "nbformat": 4,
 "nbformat_minor": 2
}
